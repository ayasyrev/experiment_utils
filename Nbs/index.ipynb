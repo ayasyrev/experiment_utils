{
 "cells": [
  {
   "cell_type": "code",
   "execution_count": null,
   "source": [
    "#hide"
   ],
   "outputs": [],
   "metadata": {}
  },
  {
   "cell_type": "markdown",
   "source": [
    "# Experiment_utils\n",
    "\n",
    "> Helper utils for track and manage Dl experimets with pytorch."
   ],
   "metadata": {}
  },
  {
   "cell_type": "markdown",
   "source": [
    "Pipelines and utils for dl experiments with pytorch."
   ],
   "metadata": {}
  }
 ],
 "metadata": {
  "kernelspec": {
   "display_name": "Python 3",
   "language": "python",
   "name": "python3"
  }
 },
 "nbformat": 4,
 "nbformat_minor": 2
}